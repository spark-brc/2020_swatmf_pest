{
 "cells": [
  {
   "cell_type": "markdown",
   "metadata": {},
   "source": [
    "# Now we'll bring in the model and run it"
   ]
  },
  {
   "cell_type": "code",
   "execution_count": null,
   "metadata": {},
   "outputs": [],
   "source": [
    "# Import libraries\n",
    "\n",
    "%matplotlib inline\n",
    "import os\n",
    "import flopy\n",
    "import pyemu\n",
    "import pandas as pd\n",
    "import numpy as np\n",
    "import subprocess as sp\n",
    "from pyemu.pst.pst_utils import SFMT"
   ]
  },
  {
   "cell_type": "markdown",
   "metadata": {},
   "source": [
    "### Specify a path to the model folder by Users"
   ]
  },
  {
   "cell_type": "code",
   "execution_count": null,
   "metadata": {},
   "outputs": [],
   "source": [
    "wd = \"D:/Workshops/qsm_mb/SWAT-MODFLOW\"\n",
    "os.chdir(wd)\n",
    "mname = \"modflow.mfn\""
   ]
  },
  {
   "cell_type": "markdown",
   "metadata": {},
   "source": [
    "### Check MODFLOW model"
   ]
  },
  {
   "cell_type": "code",
   "execution_count": null,
   "metadata": {},
   "outputs": [],
   "source": [
    "m = flopy.modflow.Modflow.load(mname,model_ws=wd)\n",
    "m.check()"
   ]
  },
  {
   "cell_type": "markdown",
   "metadata": {},
   "source": [
    "# 1. Let's run the model first to get pre-calibration results"
   ]
  },
  {
   "cell_type": "markdown",
   "metadata": {},
   "source": [
    "- Simulation Period \n",
    "    * Jan. 01, 1995 ~ Dec. 31, 1995 with no warm-up period (1 year)\n",
    "    <br/><br/>\n",
    "- Measurement Duration\n",
    "    * Streamflow\n",
    "        - Outlet: Reach 58 Jan. 1, 1993 ~ Dec. 31, 2012\n",
    "    * Watertable\n",
    "        - Grid ID: 5699, 5832\n"
   ]
  },
  {
   "cell_type": "markdown",
   "metadata": {},
   "source": [
    "#### Example of Setup\n",
    "- Calibration / Validation\n",
    "    * 2003 1/1 - 2007 for Calibration\n",
    "    * 2008 - 2010 for validation (???)\n",
    "    <br/><br/>\n",
    "- Streamflow: Little baseflow, High peak, Peak early -> , peak low, shift to little right\n",
    "    - SWAT parameters:\n",
    "        * Little Baseflow & High Peak\n",
    "            - CN2 - Decrease\n",
    "            - ESCO - Increase\n",
    "            - SOL_AWC - Increase\n",
    "        * Peak early\n",
    "            * HRU_SLP - Decrease\n",
    "            * OV_N - Increase\n",
    "            * SLSUBBSN - Increase (The value of overland flow length)\n",
    "    - MODFLOW parameters:\n",
    "        * Little Baseflow & High Peak\n",
    "            - Riverbed cond - Decrease\n",
    "            - Riverbed bottom elevation - Decrease\n",
    "        * K - ? \n",
    "        * Sy - ?\n",
    "        \n",
    "- Watertable -> high watertable, slow recession, \n",
    "    - SWAT parameters:\n",
    "        * RCHRG_DP - (turned off) decrease\n",
    "        * CN2 - ?\n",
    "        * ESCO - ? (increase)\n",
    "        * SOL_AWC - decrease\n",
    "    - MODFLOW parameters:\n",
    "        * K - increase \n",
    "        * Sy - ?\n",
    "        * EVT depth - increase\n",
    "        * River Bottom - ?\n",
    "        * River conductance - decrease"
   ]
  },
  {
   "cell_type": "markdown",
   "metadata": {},
   "source": [
    "### Import additional libraries to work with SWAT-MODFLOW inputs / ouputs"
   ]
  },
  {
   "cell_type": "code",
   "execution_count": null,
   "metadata": {},
   "outputs": [],
   "source": [
    "from sm_pst_pkgs import sm_pst_par, sm_pst_utils, sm_pst_stats"
   ]
  },
  {
   "cell_type": "markdown",
   "metadata": {},
   "source": [
    "# 2. Create PEST input files (template / instruction)\n",
    "## 2.1. Create template files\n",
    "We are going to use the `*.pval` and `mf_river.par` files for MODFLOW parameters and `model.in` file for SWAT parameters."
   ]
  },
  {
   "cell_type": "code",
   "execution_count": null,
   "metadata": {},
   "outputs": [],
   "source": [
    "# pval file\n",
    "pval_file = 'mf_300.pval'\n",
    "# model.in file\n",
    "model_in = 'model.in'"
   ]
  },
  {
   "cell_type": "code",
   "execution_count": null,
   "metadata": {},
   "outputs": [],
   "source": [
    "gw_par = pyemu.utils.gw_utils.modflow_pval_to_template_file(pval_file, tpl_file=None)\n",
    "gw_par"
   ]
  },
  {
   "cell_type": "code",
   "execution_count": null,
   "metadata": {},
   "outputs": [],
   "source": [
    "sm_pst_utils.model_in_to_template_file?"
   ]
  },
  {
   "cell_type": "code",
   "execution_count": null,
   "metadata": {},
   "outputs": [],
   "source": [
    "sw_par = sm_pst_utils.model_in_to_template_file(model_in, tpl_file=None)\n",
    "sw_par"
   ]
  },
  {
   "cell_type": "markdown",
   "metadata": {},
   "source": [
    "## 2.2 Parameterize Riverbed conductance and thickness"
   ]
  },
  {
   "cell_type": "code",
   "execution_count": null,
   "metadata": {},
   "outputs": [],
   "source": [
    "sm_pst_par.create_riv_par?"
   ]
  },
  {
   "cell_type": "code",
   "execution_count": null,
   "metadata": {},
   "outputs": [],
   "source": [
    "# provide channel ids that will be used for calibration\n",
    "subs = ['g1', 'g2', 'g3', 'g4', 'g5']\n",
    "sm_pst_par.create_riv_par(wd, subs)"
   ]
  },
  {
   "cell_type": "code",
   "execution_count": null,
   "metadata": {},
   "outputs": [],
   "source": [
    "# create a template file for mf_riv.par file\n",
    "sm_pst_utils.riv_par_to_template_file('mf_riv.par')"
   ]
  },
  {
   "cell_type": "code",
   "execution_count": null,
   "metadata": {},
   "outputs": [],
   "source": [
    "# overwrite the river package file\n",
    "sm_pst_par.riv_par(wd)"
   ]
  },
  {
   "cell_type": "markdown",
   "metadata": {},
   "source": [
    "# 3. Build instruction files (streamflow / watertable)\n",
    "## 3.1 Extract simulated streamflow data from (output.rch)"
   ]
  },
  {
   "cell_type": "code",
   "execution_count": null,
   "metadata": {},
   "outputs": [],
   "source": [
    "# file path\n",
    "rch_file = 'output.rch'\n",
    "# reach numbers that are used for calibration\n",
    "subs = [58]"
   ]
  },
  {
   "cell_type": "code",
   "execution_count": null,
   "metadata": {},
   "outputs": [],
   "source": [
    "# extract month_streamflow\n",
    "sm_pst_utils.extract_day_str(rch_file, subs, '1/1/1995', '1/1/1995', '12/31/1995')"
   ]
  },
  {
   "cell_type": "markdown",
   "metadata": {},
   "source": [
    "### 3.1.1 Create instruction files for each str_sim file using the 'streamflow.obd' file"
   ]
  },
  {
   "cell_type": "code",
   "execution_count": null,
   "metadata": {},
   "outputs": [],
   "source": [
    "sim_files = ['cha_{:03d}.txt'.format(x) for x in subs]\n",
    "sim_files"
   ]
  },
  {
   "cell_type": "code",
   "execution_count": null,
   "metadata": {},
   "outputs": [],
   "source": [
    "col_names = ['ch58']"
   ]
  },
  {
   "cell_type": "code",
   "execution_count": null,
   "metadata": {},
   "outputs": [],
   "source": [
    "# create instruction files for each sim file\n",
    "for i in range(len(sim_files)):\n",
    "    sm_pst_utils.str_obd_to_ins(sim_files[i], col_names[i], '1/1/1995', '12/31/1995')"
   ]
  },
  {
   "cell_type": "markdown",
   "metadata": {},
   "source": [
    "## 3.2 Extract simulated watertable from (swatmf_out_MF_obs)"
   ]
  },
  {
   "cell_type": "code",
   "execution_count": null,
   "metadata": {},
   "outputs": [],
   "source": [
    "sm_pst_utils.extract_watertable_sim([5699, 5832], '1/1/1995', '12/31/1995')\n"
   ]
  },
  {
   "cell_type": "code",
   "execution_count": null,
   "metadata": {},
   "outputs": [],
   "source": [
    "sm_pst_utils.mf_obd_to_ins('wt_5832.txt', 'g_5832', '1/1/1995', '12/31/1995')"
   ]
  },
  {
   "cell_type": "markdown",
   "metadata": {},
   "source": [
    "#### Let's try to create the second instruction file for the 'g_5699'"
   ]
  },
  {
   "cell_type": "code",
   "execution_count": null,
   "metadata": {},
   "outputs": [],
   "source": []
  },
  {
   "cell_type": "markdown",
   "metadata": {},
   "source": [
    "<details>\n",
    "<summary>Hint!</summary>    \n",
    "sm_pst_utils.mf_obd_to_ins('wt_5699.txt', 'g_5699', '1/1/1995', '12/31/1995')\n",
    "</details>"
   ]
  },
  {
   "cell_type": "markdown",
   "metadata": {},
   "source": [
    "# 4. Create a pst (control) file "
   ]
  },
  {
   "cell_type": "markdown",
   "metadata": {},
   "source": [
    "##### Let's create a dummy pst file based on tpl and ins files we've created"
   ]
  },
  {
   "cell_type": "code",
   "execution_count": null,
   "metadata": {},
   "outputs": [],
   "source": [
    "io_files = pyemu.helpers.parse_dir_for_io_files('.')\n",
    "pst = pyemu.Pst.from_io_files(*io_files)\n",
    "pyemu.helpers.pst_from_io_files(io_files[0], io_files[1], io_files[2], io_files[3], 'sm_pest_dummy.pst')"
   ]
  },
  {
   "cell_type": "markdown",
   "metadata": {},
   "source": [
    "##### We need to modify parameter ranges and offset setting."
   ]
  },
  {
   "cell_type": "code",
   "execution_count": null,
   "metadata": {},
   "outputs": [],
   "source": [
    "par = pst.parameter_data\n",
    "par"
   ]
  },
  {
   "cell_type": "markdown",
   "metadata": {},
   "source": [
    "## 4.1 Modify a default parameter setting"
   ]
  },
  {
   "cell_type": "markdown",
   "metadata": {},
   "source": [
    "### 4.1.1 Change parameter group name"
   ]
  },
  {
   "cell_type": "code",
   "execution_count": null,
   "metadata": {
    "scrolled": false
   },
   "outputs": [],
   "source": [
    "for i in range(len(par)):\n",
    "    if (par.iloc[i, 0][:2]) == 'sy':\n",
    "        par.iloc[i, 6] = 'sy'\n",
    "    elif par.iloc[i, 0][:7] == 'rivbot_':\n",
    "        par.iloc[i, 6] = 'rivbot'\n",
    "    elif par.iloc[i, 0][:6] == 'rivcd_':\n",
    "        par.iloc[i, 6] = 'rivcd'\n",
    "    elif par.iloc[i, 0][:2] == 'hk':\n",
    "        par.iloc[i, 6] = 'hk'\n",
    "    else:\n",
    "        par.iloc[i, 6] = 'str'\n",
    "print(par)"
   ]
  },
  {
   "cell_type": "markdown",
   "metadata": {},
   "source": [
    "### 4.1.2 Change MODFLOW default values"
   ]
  },
  {
   "cell_type": "code",
   "execution_count": null,
   "metadata": {},
   "outputs": [],
   "source": [
    "count = 0\n",
    "for i in range(len(par)):\n",
    "    if (par.iloc[i, 6] == 'hk'):\n",
    "        par.iloc[i, 3] = 1  \n",
    "        par.iloc[i, 4] = 1.000000e-02\n",
    "        par.iloc[i, 5] = 1.000000e+02\n",
    "    elif (par.iloc[i, 6] == 'sy'):\n",
    "        par.iloc[i, 3] = 1.000000e-02       \n",
    "        par.iloc[i, 4] = 1.000000e-04\n",
    "        par.iloc[i, 5] = 0.6  \n",
    "    elif (par.iloc[i, 6] == 'rivbot'):\n",
    "        par.iloc[i, 3] = 3.001     \n",
    "        par.iloc[i, 4] = 0.001\n",
    "        par.iloc[i, 5] = 6\n",
    "        par.iloc[i, 8] = -3\n",
    "    elif (par.iloc[i, 6] == 'rivcd'):\n",
    "        par.iloc[i, 3] = 50.001       \n",
    "        par.iloc[i, 4] = 0.001\n",
    "        par.iloc[i, 5] = 100\n",
    "        par.iloc[i, 8] = -50\n",
    "    else:\n",
    "        count += 1\n",
    "count"
   ]
  },
  {
   "cell_type": "markdown",
   "metadata": {},
   "source": [
    "### 4.1.3 Change SWAT default values"
   ]
  },
  {
   "cell_type": "code",
   "execution_count": null,
   "metadata": {},
   "outputs": [],
   "source": [
    "par"
   ]
  },
  {
   "cell_type": "code",
   "execution_count": null,
   "metadata": {},
   "outputs": [],
   "source": [
    "# CN2\n",
    "par.loc['cn2', 'parval1'] = 1.001\n",
    "par.loc['cn2', 'parlbnd'] = 0.8\n",
    "par.loc['cn2', 'parubnd'] = 1.2\n",
    "par.loc['cn2', 'offset'] = -1\n",
    "\n",
    "# CH_K2\n",
    "par.loc['ch_k2', 'parval1'] = 0.001\n",
    "par.loc['ch_k2', 'parlbnd'] = 0.0001\n",
    "par.loc['ch_k2', 'parubnd'] = 10\n",
    "\n",
    "# CH_S2\n",
    "par.loc['ch_s2', 'parval1'] = 1.0001\n",
    "par.loc['ch_s2', 'parlbnd'] = 0.001\n",
    "par.loc['ch_s2', 'parubnd'] = 1.5\n",
    "par.loc['ch_s2', 'offset'] = -1\n",
    "\n",
    "\n",
    "# # ESCO\n",
    "# par.loc['esco', 'parval1'] = 1.001\n",
    "# par.loc['esco', 'parlbnd'] = 0.5\n",
    "# par.loc['esco', 'parubnd'] = 1.5\n",
    "# par.loc['esco', 'offset'] = -1\n",
    "\n",
    "# # sol_awc()\n",
    "# par.loc['sol_awc()', 'parval1'] = 1.001\n",
    "# par.loc['sol_awc()', 'parlbnd'] = 0.5\n",
    "# par.loc['sol_awc()', 'parubnd'] = 1.5\n",
    "# par.loc['sol_awc()', 'offset'] = -1\n",
    "\n"
   ]
  },
  {
   "cell_type": "code",
   "execution_count": null,
   "metadata": {},
   "outputs": [],
   "source": [
    "par"
   ]
  },
  {
   "cell_type": "markdown",
   "metadata": {},
   "source": [
    "## 4.2 Modify a default observation setting"
   ]
  },
  {
   "cell_type": "code",
   "execution_count": null,
   "metadata": {},
   "outputs": [],
   "source": [
    "# set observation group\n",
    "obd = pst.observation_data\n",
    "obd"
   ]
  },
  {
   "cell_type": "code",
   "execution_count": null,
   "metadata": {},
   "outputs": [],
   "source": [
    "# Change obd group name\n",
    "for i in range(len(obd)):\n",
    "    obd.iloc[i, 3] = obd.iloc[i, 0][:-7]\n",
    "obd"
   ]
  },
  {
   "cell_type": "markdown",
   "metadata": {},
   "source": [
    "## 4.3 Import measured data"
   ]
  },
  {
   "cell_type": "code",
   "execution_count": null,
   "metadata": {},
   "outputs": [],
   "source": [
    "# Streamflow\n",
    "stf_obd = pd.read_csv('streamflow.obd',\n",
    "                       sep='\\t',\n",
    "                       index_col = 0,\n",
    "                       parse_dates = True,\n",
    "                       na_values=[-999, '']\n",
    "                     )\n",
    "stf_obd = stf_obd['1/1/1995': '12/31/1995']\n",
    "stf_obd"
   ]
  },
  {
   "cell_type": "code",
   "execution_count": null,
   "metadata": {},
   "outputs": [],
   "source": [
    "# watertable\n",
    "wt_obd = pd.read_csv('modflow.obd',\n",
    "                       sep='\\t',\n",
    "                       index_col = 0,\n",
    "                       parse_dates = True,\n",
    "                       na_values=[-999, '']\n",
    "                     )\n",
    "wt_obd = wt_obd['1/1/1995': '12/31/1995']\n",
    "wt_obd"
   ]
  },
  {
   "cell_type": "code",
   "execution_count": null,
   "metadata": {},
   "outputs": [],
   "source": [
    "# Get sub list based on obd order\n",
    "obd_order = []\n",
    "for i in obd.obgnme.tolist():\n",
    "    if i not in obd_order:\n",
    "        obd_order.append(i)\n",
    "obd_order"
   ]
  },
  {
   "cell_type": "code",
   "execution_count": null,
   "metadata": {},
   "outputs": [],
   "source": [
    "# get total list from each sub obd, delete na vals\n",
    "tot_obd = []\n",
    "for i in obd_order[:1]:\n",
    "    tot_obd += stf_obd[i].dropna().tolist()\n",
    "for i in obd_order[1:]:\n",
    "    tot_obd += wt_obd[i].dropna().tolist()\n",
    "len(tot_obd)"
   ]
  },
  {
   "cell_type": "code",
   "execution_count": null,
   "metadata": {},
   "outputs": [],
   "source": [
    "obd.loc[:, 'obsval'] = tot_obd\n",
    "obd"
   ]
  },
  {
   "cell_type": "markdown",
   "metadata": {},
   "source": [
    "# 5. Export the final control file"
   ]
  },
  {
   "cell_type": "code",
   "execution_count": null,
   "metadata": {},
   "outputs": [],
   "source": [
    "pst.write('mb_pest.pst')"
   ]
  },
  {
   "cell_type": "code",
   "execution_count": null,
   "metadata": {},
   "outputs": [],
   "source": []
  }
 ],
 "metadata": {
  "kernelspec": {
   "display_name": "Python 3",
   "language": "python",
   "name": "python3"
  },
  "language_info": {
   "codemirror_mode": {
    "name": "ipython",
    "version": 3
   },
   "file_extension": ".py",
   "mimetype": "text/x-python",
   "name": "python",
   "nbconvert_exporter": "python",
   "pygments_lexer": "ipython3",
   "version": "3.7.7"
  }
 },
 "nbformat": 4,
 "nbformat_minor": 4
}
